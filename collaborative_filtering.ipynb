{
 "cells": [
  {
   "cell_type": "code",
   "execution_count": 1,
   "metadata": {
    "colab": {
     "base_uri": "https://localhost:8080/"
    },
    "executionInfo": {
     "elapsed": 2974,
     "status": "ok",
     "timestamp": 1747613537065,
     "user": {
      "displayName": "Filippo Ceffa",
      "userId": "02158651955099572185"
     },
     "user_tz": -540
    },
    "id": "nAUdZ60yEEGN",
    "outputId": "32628dcf-5694-4bca-ece7-d9ceb5f15280"
   },
   "outputs": [
    {
     "name": "stdout",
     "output_type": "stream",
     "text": [
      "\n",
      "CondaError: Run 'conda init' before 'conda activate'\n",
      "\n",
      "Total RAM: 31.25 GB\n",
      "Available RAM: 30.17 GB\n",
      "Used RAM: 0.71 GB\n",
      "Percentage Used: 3.5%\n"
     ]
    }
   ],
   "source": [
    "!conda activate filippo\n",
    "#from google.colab import drive\n",
    "import os\n",
    "import pandas as pd\n",
    "#!pip install pandas\n",
    "\n",
    "#drive.mount('/content/drive')\n",
    "\n",
    "%config Completer.use_jedi = False\n",
    "\n",
    "import psutil\n",
    "ram = psutil.virtual_memory()\n",
    "print(f\"Total RAM: {ram.total / 1024**3:.2f} GB\")\n",
    "print(f\"Available RAM: {ram.available / 1024**3:.2f} GB\")\n",
    "print(f\"Used RAM: {ram.used / 1024**3:.2f} GB\")\n",
    "print(f\"Percentage Used: {ram.percent}%\")"
   ]
  },
  {
   "cell_type": "code",
   "execution_count": 2,
   "metadata": {
    "colab": {
     "base_uri": "https://localhost:8080/"
    },
    "executionInfo": {
     "elapsed": 9184,
     "status": "ok",
     "timestamp": 1747613549557,
     "user": {
      "displayName": "Filippo Ceffa",
      "userId": "02158651955099572185"
     },
     "user_tz": -540
    },
    "id": "4wKmTEs4AdGf",
    "outputId": "c9c7fbe0-1250-4405-aabc-bc9ee3595935"
   },
   "outputs": [
    {
     "data": {
      "text/plain": [
       "379832"
      ]
     },
     "execution_count": 2,
     "metadata": {},
     "output_type": "execute_result"
    }
   ],
   "source": [
    "from pathlib import Path\n",
    "ratings_dir = Path(\"crawled/ratings/\")\n",
    "\n",
    "df_all = pd.read_csv(ratings_dir / \"special.csv\")\n",
    "\n",
    "csv_files = [f for f in ratings_dir.glob(\"*.csv\") if f.stem.isdigit()]\n",
    "num_csv = 2\n",
    "\n",
    "df_all = pd.concat(\n",
    "    [df_all]\n",
    "    +\n",
    "    [ pd.read_csv(f) for f in csv_files[:num_csv]],\n",
    "    ignore_index=True\n",
    ")\n",
    "\n",
    "len(df_all)"
   ]
  },
  {
   "cell_type": "code",
   "execution_count": 3,
   "metadata": {
    "colab": {
     "base_uri": "https://localhost:8080/",
     "height": 1000
    },
    "executionInfo": {
     "elapsed": 5185,
     "status": "error",
     "timestamp": 1747614536286,
     "user": {
      "displayName": "Filippo Ceffa",
      "userId": "02158651955099572185"
     },
     "user_tz": -540
    },
    "id": "Oc-2NCWiNryf",
    "outputId": "ed1f7912-ce05-4cad-eb7f-395afdd663d0"
   },
   "outputs": [
    {
     "name": "stdout",
     "output_type": "stream",
     "text": [
      "Total ratings size:  379832\n",
      "Ratings size after movie filtering:  147188\n",
      "Ratings size after user filtering:  72042\n"
     ]
    }
   ],
   "source": [
    "print(\"Total ratings size: \", len(df_all))\n",
    "\n",
    "movie_popularity = df_all[\"movie_id\"].value_counts()\n",
    "popular_movies = movie_popularity[movie_popularity >= 30].index\n",
    "df = df_all[df_all[\"movie_id\"].isin(popular_movies)]\n",
    "print(\"Ratings size after movie filtering: \", len(df))\n",
    "\n",
    "unique_users = df[\"user_id\"].unique()\n",
    "sampled_users = unique_users[0:100]\n",
    "df = df[df[\"user_id\"].isin(sampled_users)]\n",
    "print(\"Ratings size after user filtering: \", len(df))"
   ]
  },
  {
   "cell_type": "code",
   "execution_count": 4,
   "metadata": {
    "colab": {
     "base_uri": "https://localhost:8080/",
     "height": 363
    },
    "executionInfo": {
     "elapsed": 27043,
     "status": "ok",
     "timestamp": 1747567550057,
     "user": {
      "displayName": "Filippo Ceffa",
      "userId": "02158651955099572185"
     },
     "user_tz": -540
    },
    "id": "QXi5MjpEI18m",
    "outputId": "352d6419-3a37-4ade-a068-37fb53d1fe2f"
   },
   "outputs": [],
   "source": [
    "from fastai.data.block import DataBlock, CategoryBlock, RegressionBlock\n",
    "from fastai.data.transforms import ColReader\n",
    "from fastai.collab import CollabDataLoaders\n",
    "import numpy as np\n",
    "\n",
    "df['movie_popularity'] = df['movie_id'].map(np.log1p(df['movie_id'].value_counts()))\n",
    "\n",
    "# TODO: it may happen that a split cause a user or movie to be only in the validation set.\n",
    "# if this happens, a crash occur, so we may need to have categorical data that allow for uncategorized data.\n",
    "# Or, have a cold-split of users.\n",
    "dblock = DataBlock(\n",
    "      blocks=(CategoryBlock, CategoryBlock, RegressionBlock, RegressionBlock),\n",
    "      getters=[ColReader('user_id'), ColReader('movie_id'), ColReader('movie_popularity'), ColReader('rating')],\n",
    "      n_inp=3\n",
    ")\n",
    "dls = dblock.dataloaders(df, bs=64)"
   ]
  },
  {
   "cell_type": "code",
   "execution_count": 5,
   "metadata": {},
   "outputs": [],
   "source": [
    "from fastai.learner import Module\n",
    "import torch.nn as nn\n",
    "import torch\n",
    "import sys\n",
    "\n",
    "def sigmoid_range(x, y_range):\n",
    "    low, high = y_range\n",
    "    return torch.sigmoid(x) * (high - low) + low\n",
    "\n",
    "def create_random_parameter(sizes):\n",
    "    return nn.Parameter(torch.zeros(*sizes).normal_(0, 0.01))\n",
    "                        \n",
    "class DotProductBias(Module):\n",
    "    def __init__(self, n_users, n_movies, n_factors, y_range=(0, 5.5)):\n",
    "        self.user_factors=create_random_parameter([n_users, n_factors])\n",
    "        self.movie_factors=create_random_parameter([n_movies, n_factors])\n",
    "        self.user_bias=create_random_parameter([n_users])\n",
    "        self.movie_bias=create_random_parameter([n_movies])\n",
    "        self.y_range=y_range\n",
    "        \n",
    "    def forward(self, user_indices, movie_indices, movie_popularity):\n",
    "        user_factors = self.user_factors[user_indices]\n",
    "        movie_factors = self.movie_factors[movie_indices]\n",
    "        user_bias = self.user_bias[user_indices]\n",
    "        movie_bias = self.movie_bias[movie_indices]\n",
    "        res = (user_factors*movie_factors).sum(dim=1) + user_bias + movie_bias - 0.1 * movie_popularity\n",
    "\n",
    "        return sigmoid_range(res, self.y_range)"
   ]
  },
  {
   "cell_type": "code",
   "execution_count": 6,
   "metadata": {
    "colab": {
     "base_uri": "https://localhost:8080/",
     "height": 399
    },
    "executionInfo": {
     "elapsed": 52673,
     "status": "error",
     "timestamp": 1747567620162,
     "user": {
      "displayName": "Filippo Ceffa",
      "userId": "02158651955099572185"
     },
     "user_tz": -540
    },
    "id": "d6sS4rLOJ3AQ",
    "outputId": "961f72a0-b6d8-40ae-94f9-1b6dcad15dfa"
   },
   "outputs": [],
   "source": [
    "from fastai.learner import Learner\n",
    "from fastai.learner import MSELossFlat\n",
    "\n",
    "n_users = len(dls.items[\"user_id\"].unique())\n",
    "n_movies = len(dls.items[\"movie_id\"].unique())\n",
    "model = DotProductBias(n_users, n_movies, 50)\n",
    "learn = Learner(dls, model, loss_func=MSELossFlat())"
   ]
  },
  {
   "cell_type": "code",
   "execution_count": 7,
   "metadata": {},
   "outputs": [
    {
     "data": {
      "text/html": [
       "\n",
       "<style>\n",
       "    /* Turns off some styling */\n",
       "    progress {\n",
       "        /* gets rid of default border in Firefox and Opera. */\n",
       "        border: none;\n",
       "        /* Needs to be in here for Safari polyfill so background images work as expected. */\n",
       "        background-size: auto;\n",
       "    }\n",
       "    progress:not([value]), progress:not([value])::-webkit-progress-bar {\n",
       "        background: repeating-linear-gradient(45deg, #7e7e7e, #7e7e7e 10px, #5c5c5c 10px, #5c5c5c 20px);\n",
       "    }\n",
       "    .progress-bar-interrupted, .progress-bar-interrupted::-webkit-progress-bar {\n",
       "        background: #F44336;\n",
       "    }\n",
       "</style>\n"
      ],
      "text/plain": [
       "<IPython.core.display.HTML object>"
      ]
     },
     "metadata": {},
     "output_type": "display_data"
    },
    {
     "data": {
      "text/html": [
       "<table border=\"1\" class=\"dataframe\">\n",
       "  <thead>\n",
       "    <tr style=\"text-align: left;\">\n",
       "      <th>epoch</th>\n",
       "      <th>train_loss</th>\n",
       "      <th>valid_loss</th>\n",
       "      <th>time</th>\n",
       "    </tr>\n",
       "  </thead>\n",
       "  <tbody>\n",
       "    <tr>\n",
       "      <td>0</td>\n",
       "      <td>0.633950</td>\n",
       "      <td>0.610069</td>\n",
       "      <td>00:04</td>\n",
       "    </tr>\n",
       "    <tr>\n",
       "      <td>1</td>\n",
       "      <td>0.531151</td>\n",
       "      <td>0.557478</td>\n",
       "      <td>00:04</td>\n",
       "    </tr>\n",
       "  </tbody>\n",
       "</table>"
      ],
      "text/plain": [
       "<IPython.core.display.HTML object>"
      ]
     },
     "metadata": {},
     "output_type": "display_data"
    }
   ],
   "source": [
    "learn.fit_one_cycle(2, lr_max=0.003, wd=0.1)"
   ]
  },
  {
   "cell_type": "code",
   "execution_count": 8,
   "metadata": {},
   "outputs": [
    {
     "data": {
      "text/plain": [
       "[('twin-peaks', 4.4035773277282715, 3.0910425186157227),\n",
       " ('psycho', 4.3842573165893555, 4.127134323120117),\n",
       " ('one-flew-over-the-cuckoos-nest', 4.344778060913086, 3.4011974334716797),\n",
       " ('before-sunset', 4.338397026062012, 3.6375861167907715),\n",
       " ('the-apartment', 4.310207843780518, 3.5835189819335938),\n",
       " ('twin-peaks-the-return', 4.3051557540893555, 3.0910425186157227),\n",
       " ('some-like-it-hot', 4.291563987731934, 3.4011974334716797),\n",
       " ('vertigo', 4.2882490158081055, 3.828641414642334),\n",
       " ('andrei-rublev', 4.256181240081787, 2.8332133293151855),\n",
       " ('once-upon-a-time-in-the-west', 4.255626201629639, 3.2188758850097656),\n",
       " ('stop-making-sense', 4.252848148345947, 2.995732307434082),\n",
       " ('autumn-sonata', 4.252007961273193, 3.044522523880005),\n",
       " ('persona', 4.248967170715332, 3.4965076446533203),\n",
       " ('a-brighter-summer-day', 4.2481184005737305, 2.7725887298583984),\n",
       " ('witness-for-the-prosecution-1957', 4.2447333335876465, 2.995732307434082),\n",
       " ('the-elephant-man', 4.238132953643799, 3.761200189590454),\n",
       " ('sunset-boulevard', 4.23162317276001, 3.6375861167907715),\n",
       " ('come-and-see', 4.227598190307617, 3.465735912322998),\n",
       " ('jeanne-dielman-23-quai-du-commerce-1080-bruxelles',\n",
       "  4.224518775939941,\n",
       "  2.70805025100708),\n",
       " ('twin-peaks-fire-walk-with-me', 4.217824935913086, 3.6375861167907715),\n",
       " ('bride-of-frankenstein', 4.210694313049316, 3.178053855895996),\n",
       " ('the-passion-of-joan-of-arc', 4.203999042510986, 3.332204580307007),\n",
       " ('whos-afraid-of-virginia-woolf', 4.2003068923950195, 2.70805025100708),\n",
       " ('the-watermelon-woman', 4.19931697845459, 2.397895336151123),\n",
       " ('all-about-my-mother', 4.1992106437683105, 2.7725887298583984),\n",
       " ('the-third-man', 4.187244415283203, 3.367295742034912),\n",
       " ('blue-velvet', 4.170114517211914, 3.97029185295105),\n",
       " ('paris-texas', 4.160040378570557, 3.5835189819335938),\n",
       " ('sing-sing-2023', 4.1539225578308105, 3.367295742034912),\n",
       " ('lost-highway', 4.153139114379883, 3.6375861167907715),\n",
       " ('sharp-objects', 4.1517205238342285, 2.6390573978424072),\n",
       " ('ran', 4.147456645965576, 2.8332133293151855),\n",
       " ('rosemarys-baby', 4.141323566436768, 3.6888794898986816),\n",
       " ('la-dolce-vita', 4.128767490386963, 2.70805025100708),\n",
       " ('children-of-men', 4.125460147857666, 3.4965076446533203),\n",
       " ('brief-encounter', 4.124832630157471, 2.890371799468994),\n",
       " ('over-the-garden-wall-2014', 4.124323844909668, 2.70805025100708),\n",
       " ('le-samourai', 4.119633674621582, 3.044522523880005),\n",
       " ('metropolis', 4.114911079406738, 3.2188758850097656),\n",
       " ('its-a-wonderful-life', 4.11362886428833, 3.8066625595092773),\n",
       " ('paper-moon', 4.10910701751709, 2.7725887298583984),\n",
       " ('to-live-and-die-in-la', 4.099674701690674, 3.0910425186157227),\n",
       " ('la-jetee', 4.097959518432617, 3.0910425186157227),\n",
       " ('sherlock-jr', 4.0906453132629395, 3.4011974334716797),\n",
       " ('mishima-a-life-in-four-chapters', 4.090236186981201, 3.178053855895996),\n",
       " ('casablanca', 4.089566707611084, 3.6635615825653076),\n",
       " ('double-indemnity', 4.08427619934082, 3.367295742034912),\n",
       " ('chungking-express', 4.083968162536621, 3.5553481578826904),\n",
       " ('in-the-mood-for-love', 4.083674430847168, 3.7376697063446045),\n",
       " ('malcolm-x-1992', 4.08229398727417, 3.044522523880005),\n",
       " ('unforgiven', 4.078937530517578, 3.367295742034912),\n",
       " ('the-red-shoes', 4.077877998352051, 3.2188758850097656),\n",
       " ('before-sunrise', 4.07772970199585, 3.828641414642334),\n",
       " ('blow-out', 4.070383548736572, 3.367295742034912),\n",
       " ('paddington-2', 4.066988468170166, 3.7376697063446045),\n",
       " ('what-ever-happened-to-baby-jane', 4.063657283782959, 2.5649492740631104),\n",
       " ('taste-of-cherry', 4.061459064483643, 2.995732307434082),\n",
       " ('the-battle-of-algiers', 4.056909561157227, 2.890371799468994),\n",
       " ('godzilla', 4.052933216094971, 3.367295742034912),\n",
       " ('the-exorcist', 4.050275802612305, 3.761200189590454),\n",
       " ('north-by-northwest', 4.043024063110352, 3.332204580307007),\n",
       " ('scream', 4.041988849639893, 4.290459632873535),\n",
       " ('the-holy-mountain', 4.041835784912109, 2.6390573978424072),\n",
       " ('terminator-2-judgment-day', 4.0408172607421875, 3.7376697063446045),\n",
       " ('a-woman-under-the-influence', 4.035683631896973, 3.044522523880005),\n",
       " ('a-charlie-brown-christmas', 4.0341386795043945, 3.2188758850097656),\n",
       " ('peeping-tom', 4.033810138702393, 2.995732307434082),\n",
       " ('cries-and-whispers', 4.031760215759277, 2.7725887298583984),\n",
       " ('modern-times', 4.029359340667725, 3.295836925506592),\n",
       " ('rashomon', 4.021875858306885, 3.367295742034912),\n",
       " ('touch-of-evil', 4.021676540374756, 2.944438934326172),\n",
       " ('in-a-lonely-place', 4.021598815917969, 2.7725887298583984),\n",
       " ('annie-hall', 4.016950607299805, 3.178053855895996),\n",
       " ('short-term-12-2013', 4.014410495758057, 2.890371799468994),\n",
       " ('for-a-few-dollars-more', 4.012798309326172, 3.1354942321777344),\n",
       " ('bringing-up-baby', 4.0093488693237305, 2.890371799468994),\n",
       " ('the-piano-teacher', 4.008707046508789, 3.1354942321777344),\n",
       " ('the-thin-red-line', 4.005136013031006, 3.1354942321777344),\n",
       " ('city-lights', 4.000082969665527, 3.178053855895996),\n",
       " ('the-man-who-shot-liberty-valance', 3.992147445678711, 2.8332133293151855),\n",
       " ('the-last-picture-show', 3.9909613132476807, 2.995732307434082),\n",
       " ('the-double-life-of-veronique', 3.989105701446533, 3.1354942321777344),\n",
       " ('possession', 3.9890270233154297, 3.7841897010803223),\n",
       " ('roman-holiday', 3.987410306930542, 3.178053855895996),\n",
       " ('nashville', 3.98706316947937, 2.6390573978424072),\n",
       " ('eyes-wide-shut', 3.9869556427001953, 3.7841897010803223),\n",
       " ('dawn-of-the-dead', 3.986506938934326, 3.295836925506592),\n",
       " ('m', 3.984489917755127, 3.332204580307007),\n",
       " ('normal-people-2020', 3.9821407794952393, 2.890371799468994),\n",
       " ('ed-wood', 3.97245717048645, 3.367295742034912),\n",
       " ('the-shop-around-the-corner', 3.969395637512207, 2.8332133293151855),\n",
       " ('john-mulaney-kid-gorgeous-at-radio-city',\n",
       "  3.9674739837646484,\n",
       "  2.5649492740631104),\n",
       " ('the-young-girls-of-rochefort', 3.9663305282592773, 2.8332133293151855),\n",
       " ('little-women-2019', 3.9658305644989014, 4.043051242828369),\n",
       " ('hard-boiled', 3.9615015983581543, 3.044522523880005),\n",
       " ('the-umbrellas-of-cherbourg', 3.9614908695220947, 3.332204580307007),\n",
       " ('sweet-smell-of-success', 3.959059953689575, 2.944438934326172),\n",
       " ('safe', 3.954653263092041, 2.890371799468994),\n",
       " ('bonnie-and-clyde', 3.9521937370300293, 3.178053855895996),\n",
       " ('mysterious-skin', 3.9499030113220215, 3.526360511779785)]"
      ]
     },
     "execution_count": 8,
     "metadata": {},
     "output_type": "execute_result"
    }
   ],
   "source": [
    "user_vocab = dls.train_ds.vocab[0]\n",
    "user2idx = {v: i for i, v in enumerate(user_vocab)}\n",
    "movie_vocab = dls.train_ds.vocab[1]\n",
    "movie2idx = {v: i for i, v in enumerate(movie_vocab)}\n",
    "\n",
    "def predict_ratings(user_name):\n",
    "  user_id = user2idx[user_name]\n",
    "  watched_movies = df[df['user_id'] == user_name]['movie_id'].astype(str)\n",
    "  movie_pop_map = df.drop_duplicates('movie_id').set_index('movie_id')['movie_popularity'].to_dict()\n",
    "  predicted_movies = [(movie, movie_pop_map[movie]) for movie in movie_vocab if movie not in set(watched_movies)]\n",
    "    \n",
    "  device = next(model.parameters()).device\n",
    "  user_id = torch.tensor([user_id], device=device)\n",
    "\n",
    "  prediction_list = []\n",
    "  for movie_name, movie_popularity in predicted_movies:\n",
    "    movie_id = movie2idx[movie_name]\n",
    "    movie_id = torch.tensor([movie_id], device=device)\n",
    "    movie_popularity = torch.tensor([movie_popularity], dtype=torch.float32, device=device)\n",
    "\n",
    "    rating = model.forward(user_id, movie_id, movie_popularity)\n",
    "    prediction_list += [(movie_name, rating.item(), movie_popularity.item())]\n",
    "\n",
    "  prediction_list = sorted(prediction_list, key=lambda x: x[1], reverse=True)\n",
    "  return prediction_list[0:100]\n",
    "\n",
    "predict_ratings(\"drakman\")"
   ]
  },
  {
   "cell_type": "code",
   "execution_count": null,
   "metadata": {},
   "outputs": [],
   "source": []
  },
  {
   "cell_type": "code",
   "execution_count": 9,
   "metadata": {
    "colab": {
     "base_uri": "https://localhost:8080/"
    },
    "executionInfo": {
     "elapsed": 58,
     "status": "ok",
     "timestamp": 1747561633667,
     "user": {
      "displayName": "Filippo Ceffa",
      "userId": "02158651955099572185"
     },
     "user_tz": -540
    },
    "id": "6xRFqNp0oro2",
    "outputId": "d32b6209-34c7-4d8d-abe2-194493273c0e"
   },
   "outputs": [
    {
     "data": {
      "text/plain": [
       "Path('models/movie_50+_user_500_embeddings_100.pkl.pth')"
      ]
     },
     "execution_count": 9,
     "metadata": {},
     "output_type": "execute_result"
    }
   ],
   "source": [
    "learn.save('movie_50+_user_500_embeddings_100.pkl')"
   ]
  },
  {
   "cell_type": "code",
   "execution_count": null,
   "metadata": {},
   "outputs": [],
   "source": []
  }
 ],
 "metadata": {
  "colab": {
   "authorship_tag": "ABX9TyPgJaqTrGt5gwsaTsqQjZSz",
   "provenance": []
  },
  "kernelspec": {
   "display_name": "Python 3 (ipykernel)",
   "language": "python",
   "name": "python3"
  },
  "language_info": {
   "codemirror_mode": {
    "name": "ipython",
    "version": 3
   },
   "file_extension": ".py",
   "mimetype": "text/x-python",
   "name": "python",
   "nbconvert_exporter": "python",
   "pygments_lexer": "ipython3",
   "version": "3.10.12"
  }
 },
 "nbformat": 4,
 "nbformat_minor": 4
}
