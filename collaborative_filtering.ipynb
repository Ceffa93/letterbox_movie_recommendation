{
 "cells": [
  {
   "cell_type": "code",
   "execution_count": 9,
   "metadata": {
    "colab": {
     "base_uri": "https://localhost:8080/"
    },
    "executionInfo": {
     "elapsed": 2974,
     "status": "ok",
     "timestamp": 1747613537065,
     "user": {
      "displayName": "Filippo Ceffa",
      "userId": "02158651955099572185"
     },
     "user_tz": -540
    },
    "id": "nAUdZ60yEEGN",
    "outputId": "32628dcf-5694-4bca-ece7-d9ceb5f15280"
   },
   "outputs": [
    {
     "name": "stdout",
     "output_type": "stream",
     "text": [
      "\n",
      "CondaError: Run 'conda init' before 'conda activate'\n",
      "\n",
      "Total VRAM: 31.25 GB\n",
      "Available VRAM: 29.21 GB\n",
      "Used VRAM: 1.54 GB\n",
      "Percentage Used: 6.5%\n",
      "Torch version 2.7.1+cu128\n",
      "Cuda version 12.8\n"
     ]
    }
   ],
   "source": [
    "!conda activate filippo\n",
    "import os\n",
    "import pandas as pd\n",
    "\n",
    "import utils\n",
    "utils.print_vram_info()\n",
    "\n",
    "import torch\n",
    "print(\"Cuda version\", torch.version.cuda)"
   ]
  },
  {
   "cell_type": "code",
   "execution_count": 2,
   "metadata": {
    "colab": {
     "base_uri": "https://localhost:8080/"
    },
    "executionInfo": {
     "elapsed": 9184,
     "status": "ok",
     "timestamp": 1747613549557,
     "user": {
      "displayName": "Filippo Ceffa",
      "userId": "02158651955099572185"
     },
     "user_tz": -540
    },
    "id": "4wKmTEs4AdGf",
    "outputId": "c9c7fbe0-1250-4405-aabc-bc9ee3595935"
   },
   "outputs": [
    {
     "data": {
      "text/plain": [
       "379832"
      ]
     },
     "execution_count": 2,
     "metadata": {},
     "output_type": "execute_result"
    }
   ],
   "source": [
    "from pathlib import Path\n",
    "ratings_dir = Path(\"crawled/ratings/\")\n",
    "\n",
    "df_all = pd.read_csv(ratings_dir / \"special.csv\")\n",
    "\n",
    "csv_files = [f for f in ratings_dir.glob(\"*.csv\") if f.stem.isdigit()]\n",
    "num_csv = 2\n",
    "\n",
    "df_all = pd.concat(\n",
    "    [df_all]\n",
    "    +\n",
    "    [ pd.read_csv(f) for f in csv_files[:num_csv]],\n",
    "    ignore_index=True\n",
    ")\n",
    "\n",
    "len(df_all)"
   ]
  },
  {
   "cell_type": "code",
   "execution_count": 3,
   "metadata": {
    "colab": {
     "base_uri": "https://localhost:8080/",
     "height": 1000
    },
    "executionInfo": {
     "elapsed": 5185,
     "status": "error",
     "timestamp": 1747614536286,
     "user": {
      "displayName": "Filippo Ceffa",
      "userId": "02158651955099572185"
     },
     "user_tz": -540
    },
    "id": "Oc-2NCWiNryf",
    "outputId": "ed1f7912-ce05-4cad-eb7f-395afdd663d0"
   },
   "outputs": [
    {
     "name": "stdout",
     "output_type": "stream",
     "text": [
      "Total ratings size:  379832\n",
      "Ratings size after movie filtering:  147188\n",
      "Ratings size after user filtering:  72042\n"
     ]
    }
   ],
   "source": [
    "print(\"Total ratings size: \", len(df_all))\n",
    "\n",
    "movie_popularity = df_all[\"movie_id\"].value_counts()\n",
    "popular_movies = movie_popularity[movie_popularity >= 30].index\n",
    "df = df_all[df_all[\"movie_id\"].isin(popular_movies)]\n",
    "print(\"Ratings size after movie filtering: \", len(df))\n",
    "\n",
    "unique_users = df[\"user_id\"].unique()\n",
    "sampled_users = unique_users[0:100]\n",
    "df = df[df[\"user_id\"].isin(sampled_users)]\n",
    "print(\"Ratings size after user filtering: \", len(df))"
   ]
  },
  {
   "cell_type": "code",
   "execution_count": 4,
   "metadata": {
    "colab": {
     "base_uri": "https://localhost:8080/",
     "height": 363
    },
    "executionInfo": {
     "elapsed": 27043,
     "status": "ok",
     "timestamp": 1747567550057,
     "user": {
      "displayName": "Filippo Ceffa",
      "userId": "02158651955099572185"
     },
     "user_tz": -540
    },
    "id": "QXi5MjpEI18m",
    "outputId": "352d6419-3a37-4ade-a068-37fb53d1fe2f"
   },
   "outputs": [],
   "source": [
    "from fastai.data.block import DataBlock, CategoryBlock, RegressionBlock\n",
    "from fastai.data.transforms import ColReader\n",
    "from fastai.collab import CollabDataLoaders\n",
    "import numpy as np\n",
    "\n",
    "df['movie_popularity'] = df['movie_id'].map(np.log1p(df['movie_id'].value_counts()))\n",
    "\n",
    "# TODO: it may happen that a split cause a user or movie to be only in the validation set.\n",
    "# if this happens, a crash occur, so we may need to have categorical data that allow for uncategorized data.\n",
    "# Or, have a cold-split of users.\n",
    "dblock = DataBlock(\n",
    "      blocks=(CategoryBlock, CategoryBlock, RegressionBlock, RegressionBlock),\n",
    "      getters=[ColReader('user_id'), ColReader('movie_id'), ColReader('movie_popularity'), ColReader('rating')],\n",
    "      n_inp=3\n",
    ")\n",
    "dls = dblock.dataloaders(df, bs=64)"
   ]
  },
  {
   "cell_type": "code",
   "execution_count": 5,
   "metadata": {},
   "outputs": [],
   "source": [
    "from fastai.learner import Module\n",
    "import torch.nn as nn\n",
    "import torch\n",
    "import sys\n",
    "\n",
    "def sigmoid_range(x, y_range):\n",
    "    low, high = y_range\n",
    "    return torch.sigmoid(x) * (high - low) + low\n",
    "\n",
    "def create_random_parameter(sizes):\n",
    "    return nn.Parameter(torch.zeros(*sizes).normal_(0, 0.01))\n",
    "                        \n",
    "class DotProductBias(Module):\n",
    "    def __init__(self, n_users, n_movies, n_factors, y_range=(0, 5.5)):\n",
    "        self.user_factors=create_random_parameter([n_users, n_factors])\n",
    "        self.movie_factors=create_random_parameter([n_movies, n_factors])\n",
    "        self.user_bias=create_random_parameter([n_users])\n",
    "        self.movie_bias=create_random_parameter([n_movies])\n",
    "        self.y_range=y_range\n",
    "        \n",
    "    def forward(self, user_indices, movie_indices, movie_popularity):\n",
    "        user_factors = self.user_factors[user_indices]\n",
    "        movie_factors = self.movie_factors[movie_indices]\n",
    "        user_bias = self.user_bias[user_indices]\n",
    "        movie_bias = self.movie_bias[movie_indices]\n",
    "        res = (user_factors*movie_factors).sum(dim=1) + user_bias + movie_bias - 0.1 * movie_popularity\n",
    "\n",
    "        return sigmoid_range(res, self.y_range)"
   ]
  },
  {
   "cell_type": "code",
   "execution_count": 6,
   "metadata": {
    "colab": {
     "base_uri": "https://localhost:8080/",
     "height": 399
    },
    "executionInfo": {
     "elapsed": 52673,
     "status": "error",
     "timestamp": 1747567620162,
     "user": {
      "displayName": "Filippo Ceffa",
      "userId": "02158651955099572185"
     },
     "user_tz": -540
    },
    "id": "d6sS4rLOJ3AQ",
    "outputId": "961f72a0-b6d8-40ae-94f9-1b6dcad15dfa"
   },
   "outputs": [],
   "source": [
    "from fastai.learner import Learner\n",
    "from fastai.learner import MSELossFlat\n",
    "\n",
    "n_users = len(dls.items[\"user_id\"].unique())\n",
    "n_movies = len(dls.items[\"movie_id\"].unique())\n",
    "model = DotProductBias(n_users, n_movies, 50)\n",
    "learn = Learner(dls, model, loss_func=MSELossFlat())"
   ]
  },
  {
   "cell_type": "code",
   "execution_count": 7,
   "metadata": {},
   "outputs": [
    {
     "data": {
      "text/html": [
       "\n",
       "<style>\n",
       "    /* Turns off some styling */\n",
       "    progress {\n",
       "        /* gets rid of default border in Firefox and Opera. */\n",
       "        border: none;\n",
       "        /* Needs to be in here for Safari polyfill so background images work as expected. */\n",
       "        background-size: auto;\n",
       "    }\n",
       "    progress:not([value]), progress:not([value])::-webkit-progress-bar {\n",
       "        background: repeating-linear-gradient(45deg, #7e7e7e, #7e7e7e 10px, #5c5c5c 10px, #5c5c5c 20px);\n",
       "    }\n",
       "    .progress-bar-interrupted, .progress-bar-interrupted::-webkit-progress-bar {\n",
       "        background: #F44336;\n",
       "    }\n",
       "</style>\n"
      ],
      "text/plain": [
       "<IPython.core.display.HTML object>"
      ]
     },
     "metadata": {},
     "output_type": "display_data"
    },
    {
     "data": {
      "text/html": [
       "<table border=\"1\" class=\"dataframe\">\n",
       "  <thead>\n",
       "    <tr style=\"text-align: left;\">\n",
       "      <th>epoch</th>\n",
       "      <th>train_loss</th>\n",
       "      <th>valid_loss</th>\n",
       "      <th>time</th>\n",
       "    </tr>\n",
       "  </thead>\n",
       "  <tbody>\n",
       "    <tr>\n",
       "      <td>0</td>\n",
       "      <td>0.627797</td>\n",
       "      <td>0.635843</td>\n",
       "      <td>00:04</td>\n",
       "    </tr>\n",
       "    <tr>\n",
       "      <td>1</td>\n",
       "      <td>0.566519</td>\n",
       "      <td>0.577532</td>\n",
       "      <td>00:04</td>\n",
       "    </tr>\n",
       "  </tbody>\n",
       "</table>"
      ],
      "text/plain": [
       "<IPython.core.display.HTML object>"
      ]
     },
     "metadata": {},
     "output_type": "display_data"
    }
   ],
   "source": [
    "learn.fit_one_cycle(2, lr_max=0.003, wd=0.1)"
   ]
  },
  {
   "cell_type": "code",
   "execution_count": 8,
   "metadata": {},
   "outputs": [
    {
     "data": {
      "text/plain": [
       "[('a-brighter-summer-day', 4.3573317527771, 2.7725887298583984),\n",
       " ('psycho', 4.355795383453369, 4.127134323120117),\n",
       " ('some-like-it-hot', 4.346652507781982, 3.4011974334716797),\n",
       " ('twin-peaks', 4.335939407348633, 3.0910425186157227),\n",
       " ('come-and-see', 4.303749084472656, 3.465735912322998),\n",
       " ('once-upon-a-time-in-the-west', 4.302332878112793, 3.2188758850097656),\n",
       " ('twin-peaks-the-return', 4.295563697814941, 3.0910425186157227),\n",
       " ('taste-of-cherry', 4.289790630340576, 2.995732307434082),\n",
       " ('all-about-my-mother', 4.284285068511963, 2.7725887298583984),\n",
       " ('casablanca', 4.238131046295166, 3.6635615825653076),\n",
       " ('the-battle-of-algiers', 4.233630657196045, 2.890371799468994),\n",
       " ('a-separation', 4.232206344604492, 2.7725887298583984),\n",
       " ('one-flew-over-the-cuckoos-nest', 4.23062801361084, 3.4011974334716797),\n",
       " ('before-sunset', 4.215855598449707, 3.6375861167907715),\n",
       " ('the-apartment', 4.2122907638549805, 3.5835189819335938),\n",
       " ('lawrence-of-arabia', 4.20846700668335, 3.178053855895996),\n",
       " ('sing-sing-2023', 4.204308032989502, 3.367295742034912),\n",
       " ('nickel-boys', 4.18686580657959, 3.0910425186157227),\n",
       " ('witness-for-the-prosecution-1957', 4.17523717880249, 2.995732307434082),\n",
       " ('rashomon', 4.162973403930664, 3.367295742034912),\n",
       " ('the-passion-of-joan-of-arc', 4.160849571228027, 3.332204580307007),\n",
       " ('double-indemnity', 4.157011985778809, 3.367295742034912),\n",
       " ('cleo-from-5-to-7', 4.155241012573242, 3.1354942321777344),\n",
       " ('sunset-boulevard', 4.149723052978516, 3.6375861167907715),\n",
       " ('paris-texas', 4.146674633026123, 3.5835189819335938),\n",
       " ('stop-making-sense', 4.146187782287598, 2.995732307434082),\n",
       " ('children-of-men', 4.143542289733887, 3.4965076446533203),\n",
       " ('unforgiven', 4.1407012939453125, 3.367295742034912),\n",
       " ('the-thin-red-line', 4.137639045715332, 3.1354942321777344),\n",
       " ('north-by-northwest', 4.137151718139648, 3.332204580307007),\n",
       " ('autumn-sonata', 4.135071754455566, 3.044522523880005),\n",
       " ('twin-peaks-fire-walk-with-me', 4.131396293640137, 3.6375861167907715),\n",
       " ('a-woman-under-the-influence', 4.128756523132324, 3.044522523880005),\n",
       " ('aguirre-the-wrath-of-god', 4.1221923828125, 2.70805025100708),\n",
       " ('malcolm-x-1992', 4.120326042175293, 3.044522523880005),\n",
       " ('peeping-tom', 4.116413116455078, 2.995732307434082),\n",
       " ('its-a-wonderful-life', 4.112824440002441, 3.8066625595092773),\n",
       " ('over-the-garden-wall-2014', 4.109663963317871, 2.70805025100708),\n",
       " ('paper-moon', 4.104516506195068, 2.7725887298583984),\n",
       " ('mishima-a-life-in-four-chapters', 4.1030097007751465, 3.178053855895996),\n",
       " ('mommy-2014', 4.102218151092529, 2.8332133293151855),\n",
       " ('chungking-express', 4.101256370544434, 3.5553481578826904),\n",
       " ('blow-out', 4.099820137023926, 3.367295742034912),\n",
       " ('cries-and-whispers', 4.098212718963623, 2.7725887298583984),\n",
       " ('jeanne-dielman-23-quai-du-commerce-1080-bruxelles',\n",
       "  4.097538948059082,\n",
       "  2.70805025100708),\n",
       " ('vertigo', 4.095909118652344, 3.828641414642334),\n",
       " ('the-elephant-man', 4.093507289886475, 3.761200189590454),\n",
       " ('sherlock-jr', 4.0924153327941895, 3.4011974334716797),\n",
       " ('mysterious-skin', 4.078522682189941, 3.526360511779785),\n",
       " ('brief-encounter', 4.077540397644043, 2.890371799468994),\n",
       " ('eyes-wide-shut', 4.076039791107178, 3.7841897010803223),\n",
       " ('magnolia', 4.0756378173828125, 3.610917806625366),\n",
       " ('short-term-12-2013', 4.066965579986572, 2.890371799468994),\n",
       " ('three-colours-red', 4.062026023864746, 2.890371799468994),\n",
       " ('rosemarys-baby', 4.060303211212158, 3.6888794898986816),\n",
       " ('drop-dead-gorgeous', 4.058803558349609, 2.8332133293151855),\n",
       " ('blue-velvet', 4.057299613952637, 3.97029185295105),\n",
       " ('the-400-blows', 4.057067394256592, 3.1354942321777344),\n",
       " ('in-the-mood-for-love', 4.054899215698242, 3.7376697063446045),\n",
       " ('it-happened-one-night', 4.054767608642578, 3.044522523880005),\n",
       " ('m', 4.054344177246094, 3.332204580307007),\n",
       " ('first-reformed', 4.053534030914307, 3.465735912322998),\n",
       " ('all-that-heaven-allows', 4.053228855133057, 2.7725887298583984),\n",
       " ('all-about-eve', 4.051929473876953, 2.890371799468994),\n",
       " ('lost-highway', 4.0510687828063965, 3.6375861167907715),\n",
       " ('the-young-girls-of-rochefort', 4.0489702224731445, 2.8332133293151855),\n",
       " ('before-sunrise', 4.048445701599121, 3.828641414642334),\n",
       " ('ran', 4.043163299560547, 2.8332133293151855),\n",
       " ('a-charlie-brown-christmas', 4.0427141189575195, 3.2188758850097656),\n",
       " ('in-a-lonely-place', 4.042228698730469, 2.7725887298583984),\n",
       " ('the-red-shoes', 4.039063930511475, 3.2188758850097656),\n",
       " ('the-exorcist', 4.036099433898926, 3.761200189590454),\n",
       " ('the-haunting-2018', 4.035827159881592, 3.1354942321777344),\n",
       " ('manchester-by-the-sea', 4.035749912261963, 3.332204580307007),\n",
       " ('when-harry-met-sally', 4.035153388977051, 3.610917806625366),\n",
       " ('the-third-man', 4.035117149353027, 3.367295742034912),\n",
       " ('nashville', 4.033610820770264, 2.6390573978424072),\n",
       " ('all-that-jazz', 4.0326008796691895, 2.944438934326172),\n",
       " ('roman-holiday', 4.027282238006592, 3.178053855895996),\n",
       " ('bringing-up-baby', 4.026423931121826, 2.890371799468994),\n",
       " ('paddington-2', 4.025908946990967, 3.7376697063446045),\n",
       " ('la-dolce-vita', 4.024279594421387, 2.70805025100708),\n",
       " ('persona', 4.023257255554199, 3.4965076446533203),\n",
       " ('close-up', 4.022790908813477, 2.7725887298583984),\n",
       " ('stalker', 4.020599365234375, 3.0910425186157227),\n",
       " ('godzilla', 4.018270015716553, 3.367295742034912),\n",
       " ('hamilton-2020', 4.01455020904541, 3.332204580307007),\n",
       " ('the-shop-around-the-corner', 4.011129379272461, 2.8332133293151855),\n",
       " ('little-women-2019', 4.007551193237305, 4.043051242828369),\n",
       " ('for-a-few-dollars-more', 4.00443696975708, 3.1354942321777344),\n",
       " ('the-straight-story', 4.002363204956055, 3.25809645652771),\n",
       " ('women-on-the-verge-of-a-nervous-breakdown',\n",
       "  4.0003204345703125,\n",
       "  2.8332133293151855),\n",
       " ('terminator-2-judgment-day', 3.999861717224121, 3.7376697063446045),\n",
       " ('andrei-rublev', 3.998992919921875, 2.8332133293151855),\n",
       " ('to-live-and-die-in-la', 3.9989447593688965, 3.0910425186157227),\n",
       " ('whos-afraid-of-virginia-woolf', 3.9938411712646484, 2.70805025100708),\n",
       " ('the-devils', 3.99320387840271, 2.6390573978424072),\n",
       " ('sinners-2025', 3.9908764362335205, 3.6888794898986816),\n",
       " ('atonement', 3.990813732147217, 3.465735912322998),\n",
       " ('diabolique-1955', 3.9893293380737305, 3.044522523880005)]"
      ]
     },
     "execution_count": 8,
     "metadata": {},
     "output_type": "execute_result"
    }
   ],
   "source": [
    "user_vocab = dls.train_ds.vocab[0]\n",
    "user2idx = {v: i for i, v in enumerate(user_vocab)}\n",
    "movie_vocab = dls.train_ds.vocab[1]\n",
    "movie2idx = {v: i for i, v in enumerate(movie_vocab)}\n",
    "\n",
    "def predict_ratings(user_name):\n",
    "  user_id = user2idx[user_name]\n",
    "  watched_movies = df[df['user_id'] == user_name]['movie_id'].astype(str)\n",
    "  movie_pop_map = df.drop_duplicates('movie_id').set_index('movie_id')['movie_popularity'].to_dict()\n",
    "  predicted_movies = [(movie, movie_pop_map[movie]) for movie in movie_vocab if movie not in set(watched_movies)]\n",
    "    \n",
    "  device = next(model.parameters()).device\n",
    "  user_id = torch.tensor([user_id], device=device)\n",
    "\n",
    "  prediction_list = []\n",
    "  for movie_name, movie_popularity in predicted_movies:\n",
    "    movie_id = movie2idx[movie_name]\n",
    "    movie_id = torch.tensor([movie_id], device=device)\n",
    "    movie_popularity = torch.tensor([movie_popularity], dtype=torch.float32, device=device)\n",
    "\n",
    "    rating = model.forward(user_id, movie_id, movie_popularity)\n",
    "    prediction_list += [(movie_name, rating.item(), movie_popularity.item())]\n",
    "\n",
    "  prediction_list = sorted(prediction_list, key=lambda x: x[1], reverse=True)\n",
    "  return prediction_list[0:100]\n",
    "\n",
    "predict_ratings(\"drakman\")"
   ]
  },
  {
   "cell_type": "code",
   "execution_count": null,
   "metadata": {},
   "outputs": [],
   "source": []
  },
  {
   "cell_type": "code",
   "execution_count": 9,
   "metadata": {
    "colab": {
     "base_uri": "https://localhost:8080/"
    },
    "executionInfo": {
     "elapsed": 58,
     "status": "ok",
     "timestamp": 1747561633667,
     "user": {
      "displayName": "Filippo Ceffa",
      "userId": "02158651955099572185"
     },
     "user_tz": -540
    },
    "id": "6xRFqNp0oro2",
    "outputId": "d32b6209-34c7-4d8d-abe2-194493273c0e"
   },
   "outputs": [
    {
     "data": {
      "text/plain": [
       "Path('models/movie_50+_user_500_embeddings_100.pkl.pth')"
      ]
     },
     "execution_count": 9,
     "metadata": {},
     "output_type": "execute_result"
    }
   ],
   "source": [
    "learn.save('movie_50+_user_500_embeddings_100.pkl')"
   ]
  },
  {
   "cell_type": "code",
   "execution_count": null,
   "metadata": {},
   "outputs": [],
   "source": []
  }
 ],
 "metadata": {
  "colab": {
   "authorship_tag": "ABX9TyPgJaqTrGt5gwsaTsqQjZSz",
   "provenance": []
  },
  "kernelspec": {
   "display_name": "Python 3 (ipykernel)",
   "language": "python",
   "name": "python3"
  },
  "language_info": {
   "codemirror_mode": {
    "name": "ipython",
    "version": 3
   },
   "file_extension": ".py",
   "mimetype": "text/x-python",
   "name": "python",
   "nbconvert_exporter": "python",
   "pygments_lexer": "ipython3",
   "version": "3.10.12"
  }
 },
 "nbformat": 4,
 "nbformat_minor": 4
}
